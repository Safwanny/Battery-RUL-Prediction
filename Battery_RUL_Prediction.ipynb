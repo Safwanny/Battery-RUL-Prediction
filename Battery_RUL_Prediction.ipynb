{
 "cells": [
  {
   "cell_type": "markdown",
   "id": "8b540af6-b5a4-4a76-954a-5c345ecc4502",
   "metadata": {},
   "source": [
    "Battery RUL (Remaining Useful Life) Prediction"
   ]
  },
  {
   "cell_type": "code",
   "execution_count": 1,
   "id": "1b4e3796-247e-4cb4-a26c-5cb68320d14b",
   "metadata": {},
   "outputs": [],
   "source": [
    "import numpy as np\n",
    "import pandas as pd\n",
    "import matplotlib.pyplot as plt\n",
    "import seaborn as sns"
   ]
  },
  {
   "cell_type": "markdown",
   "id": "a8b7cfe4-296e-472e-b315-7a01fb436d4d",
   "metadata": {},
   "source": [
    "Importing and understanding the battery data set for NASA"
   ]
  },
  {
   "cell_type": "code",
   "execution_count": null,
   "id": "7110f689-70d8-48eb-9883-110256207122",
   "metadata": {},
   "outputs": [],
   "source": [
    "import os\n",
    "import scipy.io\n",
    "\n",
    "data_dir = \"/Users/safwanshaikh/Downloads/AML/Battery-RUL-Prediction/Battery_Data_Set\""
   ]
  }
 ],
 "metadata": {
  "kernelspec": {
   "display_name": "Python[conda env: MachineLearning]",
   "language": "python",
   "name": "machinelearning"
  },
  "language_info": {
   "codemirror_mode": {
    "name": "ipython",
    "version": 3
   },
   "file_extension": ".py",
   "mimetype": "text/x-python",
   "name": "python",
   "nbconvert_exporter": "python",
   "pygments_lexer": "ipython3",
   "version": "3.8.20"
  }
 },
 "nbformat": 4,
 "nbformat_minor": 5
}
